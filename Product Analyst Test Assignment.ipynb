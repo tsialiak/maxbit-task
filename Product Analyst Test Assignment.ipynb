{
 "cells": [
  {
   "cell_type": "code",
   "execution_count": 50,
   "id": "7802cc66-c0e5-4055-9cd3-bd23fe6776a2",
   "metadata": {
    "id": "c3caef17"
   },
   "outputs": [
    {
     "data": {
      "text/plain": [
       "ab_group\n",
       "0    7429\n",
       "1    7399\n",
       "dtype: int64"
      ]
     },
     "execution_count": 50,
     "metadata": {},
     "output_type": "execute_result"
    }
   ],
   "source": [
    "import numpy as np\n",
    "import pandas as pd\n",
    "\n",
    "\n",
    "df = pd.read_parquet('task_3_events.parquet')\n",
    "\n",
    "df = df.groupby('user_id')[['user_id', 'user_group', 'time']].apply(lambda x: x.sort_values('time')).reset_index(drop=True)\n",
    "df['session_end'] = df.groupby('user_id')['time'].shift(-1)\n",
    "df['session_date'] = df['time'].dt.date\n",
    "df['session_end'] = df['session_end'].fillna(df['time'])\n",
    "df.columns = ['user_id', 'ab_group','session_start', 'session_end','session_date']\n",
    "\n",
    "##убираем из фрейма сессии, где разница в сессиях ~30 минут \n",
    "##df['diff_date'] = df['session_end'] - df['session_start']\n",
    "##df = df[np.floor(df['diff_date'].dt.total_seconds()/60.0) != 30]\n",
    "\n",
    "users = df.groupby(['user_id','ab_group']).agg(session_count=('user_id','size')).reset_index()\n",
    "filtered_users = users[users['session_count'] > 1]\n",
    "groups = filtered_users.groupby('ab_group').size()\n",
    "##groups = users.groupby('ab_group').size('session_count')\n",
    "##groups = users.groupby('ab_group').size()\n",
    "groups"
   ]
  },
  {
   "cell_type": "markdown",
   "id": "4e8c2d2d-56cd-4a3b-a47f-3b684106f4d4",
   "metadata": {
    "id": "a1de93dd"
   },
   "source": [
    "# Задание 3 (манипуляции данными в Python)\n",
    "<br>\n",
    "Есть таблица с действиями пользователей A/B-теста (<i>task_3_events.parquet</i>):"
   ]
  },
  {
   "cell_type": "markdown",
   "id": "b0c783d4",
   "metadata": {
    "id": "b0c783d4"
   },
   "source": [
    "$events$ - посещение пользователем сайта\n",
    "- $user\\_id$ - id юзера,\n",
    "- $user\\_group$ - группа A/B-теста,\n",
    "- $time$ - время совершения действия,"
   ]
  },
  {
   "cell_type": "markdown",
   "id": "ce9f94f3",
   "metadata": {
    "id": "ce9f94f3"
   },
   "source": [
    "Пользовательская сессия определяется по следующим правилам:\n",
    "<br>\n",
    "1. Новая сессия начинается после 30 минут бездействия."
   ]
  },
  {
   "cell_type": "markdown",
   "id": "44cd98bf",
   "metadata": {
    "id": "44cd98bf"
   },
   "source": [
    "<b>Постройте таблицу с сессиями юзеров в формате<b>:\n",
    "<br>\n",
    "- $user\\_id$ - id юзера\n",
    "- $ab\\_group$ - группа A/B-теста,\n",
    "- $session\\_start$ - время старта сессии,\n",
    "- $session\\_end$ - время окончания сессии,\n",
    "- $session\\_date$ - дата сессии."
   ]
  },
  {
   "cell_type": "markdown",
   "id": "b364657f",
   "metadata": {
    "id": "b364657f"
   },
   "source": [
    "# Задание 3 (оценка АБ-теста)"
   ]
  },
  {
   "cell_type": "markdown",
   "id": "5f6e75be",
   "metadata": {
    "id": "5f6e75be"
   },
   "source": [
    "Был проведен A/B-тест.\n",
    "<br>\n",
    "В качестве данных используйте таблицу, построенную в предыдущем задании. Первая сессия юзера считается моментом попадания в A/B-тест.\n",
    "<br><br>\n",
    "Ключевая метрика эксперимента - конверсия во вторую сессию.\n",
    "<br>\n",
    "Сделайте вывод о том, какая группа выиграла в A/B-тесте. Ответ обоснуйте.\n",
    "<br>"
   ]
  }
 ],
 "metadata": {
  "colab": {
   "provenance": []
  },
  "kernelspec": {
   "display_name": "Python 3 (ipykernel)",
   "language": "python",
   "name": "python3"
  },
  "language_info": {
   "codemirror_mode": {
    "name": "ipython",
    "version": 3
   },
   "file_extension": ".py",
   "mimetype": "text/x-python",
   "name": "python",
   "nbconvert_exporter": "python",
   "pygments_lexer": "ipython3",
   "version": "3.12.3"
  },
  "toc": {
   "base_numbering": 1,
   "nav_menu": {},
   "number_sections": true,
   "sideBar": true,
   "skip_h1_title": false,
   "title_cell": "Table of Contents",
   "title_sidebar": "Contents",
   "toc_cell": false,
   "toc_position": {},
   "toc_section_display": true,
   "toc_window_display": false
  },
  "varInspector": {
   "cols": {
    "lenName": 16,
    "lenType": 16,
    "lenVar": 40
   },
   "kernels_config": {
    "python": {
     "delete_cmd_postfix": "",
     "delete_cmd_prefix": "del ",
     "library": "var_list.py",
     "varRefreshCmd": "print(var_dic_list())"
    },
    "r": {
     "delete_cmd_postfix": ") ",
     "delete_cmd_prefix": "rm(",
     "library": "var_list.r",
     "varRefreshCmd": "cat(var_dic_list()) "
    }
   },
   "types_to_exclude": [
    "module",
    "function",
    "builtin_function_or_method",
    "instance",
    "_Feature"
   ],
   "window_display": false
  }
 },
 "nbformat": 4,
 "nbformat_minor": 5
}
